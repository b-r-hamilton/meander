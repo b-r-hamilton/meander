{
 "cells": [
  {
   "cell_type": "markdown",
   "metadata": {},
   "source": [
    "# Write csv with CESM data "
   ]
  },
  {
   "cell_type": "markdown",
   "metadata": {},
   "source": [
    "- Time-series of mean annual temperature, averaged over the MS basin (roughly), for the entire run\n",
    "- Time-series of mean annual evaporation, averaged over the MS basin (roughly), for the entire run\n",
    "- Lat/Lon/Value for period 1000-1200 and Lat/Long/Value for period 1600-1800 for \n",
    " - (1) winter snow depth, \n",
    " - (2) seasonal and annual precip (winter, spring, summer, fall)\n",
    " - (3) soil water, and \n",
    " - (4) discharge\n",
    " "
   ]
  },
  {
   "cell_type": "code",
   "execution_count": 1,
   "metadata": {},
   "outputs": [],
   "source": [
    "writeto = r'C:\\Users\\bydd1\\OneDrive\\Documents\\Research\\CESM Formatted_new'\n",
    "directory = r'D:\\RIVERS_new'"
   ]
  },
  {
   "cell_type": "code",
   "execution_count": 2,
   "metadata": {},
   "outputs": [],
   "source": [
    "import pandas as pd \n",
    "import time as pytime\n",
    "import numpy as np \n",
    "import os \n",
    "import datetime as dt\n",
    "import geopandas as gpd \n",
    "import matplotlib.pyplot as plt \n",
    "import cartopy \n",
    "import cartopy.crs as ccrs\n",
    "import sys\n",
    "sys.path.insert(1, r'C:\\Users\\bydd1\\OneDrive\\Documents\\Research\\Code for Babes\\miss-atmo')\n",
    "\n",
    "import env_methods as em "
   ]
  },
  {
   "cell_type": "markdown",
   "metadata": {},
   "source": [
    "## Import data"
   ]
  },
  {
   "cell_type": "code",
   "execution_count": 3,
   "metadata": {},
   "outputs": [
    {
     "name": "stdout",
     "output_type": "stream",
     "text": [
      "Loading variables = 10.28068 seconds elapsed\n",
      "Loading parameters = 0.01695 seconds elapsed\n"
     ]
    }
   ],
   "source": [
    "start_time = pytime.time()\n",
    "\n",
    "os.chdir(directory)\n",
    "\n",
    "P=np.load('PRECT_LME_USA_ENSMEAN_850-1850.npy') # precip m/s\n",
    "T=np.load('TREFHT_LME_USA_ENSMEAN_850-1850.npy') # temp K\n",
    "EVAP=np.load('QSOIL_USA_LME_ENSMEAN_850-1850.npy') # evaporation mm/s\n",
    "SNOWHLND=np.load('SNOWHLND_LME_USA_ENSMEAN_850-1850.npy') # ? \n",
    "SOILLIQ=np.load('SOILLIQ_USA_LME_ENSMEAN_850-1850.npy') # soil liquid water kg/m2\n",
    "QCHANR=np.load('QCHANR_USA_LME_ENSMEAN_850-1850.npy') # river flow m3/s\n",
    "SOILICE=np.load('SOILICE_USA_LME_ENSMEAN_850-1850.npy') # soil ice kg/m2\n",
    "QRUNOFF = np.load('QRUNOFF_LME_USA_ENSMEAN_850-1850.npy') #total liquid runoff mm/s\n",
    "QSNOMELT = np.load('QSNOMELT_LME_USA_ENSMEAN_850-1850.npy') #snow melt, mm/s\n",
    "\n",
    "var = {'P':P, \n",
    "      'T':T,\n",
    "      'EVAP':EVAP,\n",
    "      'SNOWHLND':SNOWHLND,\n",
    "      'SOILLIQ':SOILLIQ,\n",
    "      'QCHANR':QCHANR,\n",
    "      'SOILICE':SOILICE,\n",
    "      'QSNOMELT':QSNOMELT,\n",
    "      'QRUNOFF':QRUNOFF}\n",
    "print('Loading variables = ' + str(np.round(pytime.time() - start_time, 5)) + ' seconds elapsed')\n",
    "\n",
    "var_def = {'P':'Precipitation', \n",
    "      'T':'Temperature',\n",
    "      'EVAP':'Evaporation',\n",
    "      'SNOWHLND':'Water equivalent snow depth',\n",
    "      'SOILLIQ':'Soil Liquid Water',\n",
    "      'QCHANR':'River Flow',\n",
    "      'SOILICE':'Soil Ice',\n",
    "      'QRUNOFF':'Total liquid runoff',\n",
    "      'QSNOMELT':'Snow melt'\n",
    "          }\n",
    "start_time = pytime.time()\n",
    "lats=np.load('NA_ATM_LME_lats.npy')\n",
    "lons=np.load('NA_ATM_LME_lons.npy')\n",
    "\n",
    "q_lats=np.load('CESM_LME_USA_lats.npy')\n",
    "q_lons=np.load('CESM_LME_USA_lons.npy')\n",
    "print('Loading parameters = ' + str(np.round(pytime.time() - start_time, 5)) + ' seconds elapsed')\n",
    "\n",
    "time = []\n",
    "for i in range(850,1850):\n",
    "    for j in range(1,13):\n",
    "        time.append(dt.datetime(i, j, 1))\n",
    "    "
   ]
  },
  {
   "cell_type": "code",
   "execution_count": 4,
   "metadata": {},
   "outputs": [],
   "source": [
    "# remove nans \n",
    "for v in var: \n",
    "    var[v][var[v] > 10 **30] = np.nan\n",
    "var['SOILLIQ'][var['SOILLIQ'] == 0] = np.nan\n"
   ]
  },
  {
   "cell_type": "markdown",
   "metadata": {},
   "source": [
    "## Compress to mean annual "
   ]
  },
  {
   "cell_type": "code",
   "execution_count": 5,
   "metadata": {},
   "outputs": [
    {
     "name": "stdout",
     "output_type": "stream",
     "text": [
      "Compressing to annual = 44.41001 seconds elapsed\n"
     ]
    }
   ],
   "source": [
    "start_time = pytime.time()\n",
    "var_ann = {}\n",
    "var_mean = {}\n",
    "for v in var:\n",
    "    for i in np.arange(0,12000, 12):\n",
    "        subset = var[v][i:i+12,:,:]\n",
    "        subset = np.mean(subset, axis = 0)\n",
    "        subset = np.expand_dims(subset, 0)\n",
    "        if i == 0:\n",
    "            var_new = subset\n",
    "        else:\n",
    "            var_new = np.concatenate((var_new, subset), axis = 0)\n",
    "    var_ann[v] = var_new\n",
    "    var_mean[v] = np.mean(var_new, axis = 0)\n",
    "print('Compressing to annual = ' +str(np.round(pytime.time() - start_time, 5)) + ' seconds elapsed')"
   ]
  },
  {
   "cell_type": "code",
   "execution_count": 6,
   "metadata": {},
   "outputs": [
    {
     "data": {
      "text/plain": [
       "(16, 20)"
      ]
     },
     "execution_count": 6,
     "metadata": {},
     "output_type": "execute_result"
    }
   ],
   "source": [
    "var_mean['P'].shape"
   ]
  },
  {
   "cell_type": "markdown",
   "metadata": {},
   "source": [
    "## Write time-series files"
   ]
  },
  {
   "cell_type": "code",
   "execution_count": 7,
   "metadata": {},
   "outputs": [],
   "source": [
    "new_lons = lons - 360\n",
    "cLons = [-100, -80]\n",
    "cLats = [30, 45]\n",
    "cLons_ind = [em.find_closest_val(x, new_lons) for x in cLons]\n",
    "cLats_ind =[em.find_closest_val(x, lats) for x in cLats]"
   ]
  },
  {
   "cell_type": "code",
   "execution_count": 8,
   "metadata": {},
   "outputs": [
    {
     "data": {
      "text/plain": [
       "<matplotlib.collections.PathCollection at 0x29a3c3d2448>"
      ]
     },
     "execution_count": 8,
     "metadata": {},
     "output_type": "execute_result"
    },
    {
     "data": {
      "image/png": "[encoded data removed]",
      "text/plain": [
       "<Figure size 432x288 with 1 Axes>"
      ]
     },
     "metadata": {
      "needs_background": "light"
     },
     "output_type": "display_data"
    }
   ],
   "source": [
    "path = r'D:\\Shapefiles\\msrivs\\msrivs.shp'\n",
    "\n",
    "shp = gpd.read_file(path)\n",
    "plt.figure()\n",
    "ax = plt.subplot(projection = ccrs.PlateCarree())\n",
    "ax.coastlines()\n",
    "shp.plot(ax=ax, edgecolor='red', linewidth = 5)\n",
    "plt.pcolormesh(lons, lats, var['P'][0, :, :])\n",
    "plt.hlines(y = (30, 45), xmin = -120,xmax = -60, color = 'yellow', linewidth = 5, alpha = 0.5)\n",
    "plt.vlines(x = (-100, -80), ymin = 28, ymax = 54, color = 'yellow', linewidth = 5, alpha = 0.5)\n",
    "gl = ax.gridlines(draw_labels = True)\n",
    "gl.xlabels_top = False\n",
    "gl.ylabels_right = False\n",
    "plt.title('region to spatially average')\n",
    "plt.scatter(new_lons[cLons_ind[0]], lats[cLats_ind[0]], s = 100, color = 'purple')"
   ]
  },
  {
   "cell_type": "code",
   "execution_count": 9,
   "metadata": {},
   "outputs": [
    {
     "data": {
      "text/html": [
       "<div>\n",
       "<style scoped>\n",
       "    .dataframe tbody tr th:only-of-type {\n",
       "        vertical-align: middle;\n",
       "    }\n",
       "\n",
       "    .dataframe tbody tr th {\n",
       "        vertical-align: top;\n",
       "    }\n",
       "\n",
       "    .dataframe thead th {\n",
       "        text-align: right;\n",
       "    }\n",
       "</style>\n",
       "<table border=\"1\" class=\"dataframe\">\n",
       "  <thead>\n",
       "    <tr style=\"text-align: right;\">\n",
       "      <th></th>\n",
       "      <th>time</th>\n",
       "      <th>temp</th>\n",
       "      <th>evap</th>\n",
       "    </tr>\n",
       "  </thead>\n",
       "  <tbody>\n",
       "    <tr>\n",
       "      <th>0</th>\n",
       "      <td>850</td>\n",
       "      <td>287.515430</td>\n",
       "      <td>0.000005</td>\n",
       "    </tr>\n",
       "    <tr>\n",
       "      <th>1</th>\n",
       "      <td>851</td>\n",
       "      <td>287.845156</td>\n",
       "      <td>0.000005</td>\n",
       "    </tr>\n",
       "    <tr>\n",
       "      <th>2</th>\n",
       "      <td>852</td>\n",
       "      <td>287.469500</td>\n",
       "      <td>0.000005</td>\n",
       "    </tr>\n",
       "    <tr>\n",
       "      <th>3</th>\n",
       "      <td>853</td>\n",
       "      <td>287.815297</td>\n",
       "      <td>0.000005</td>\n",
       "    </tr>\n",
       "    <tr>\n",
       "      <th>4</th>\n",
       "      <td>854</td>\n",
       "      <td>287.719776</td>\n",
       "      <td>0.000005</td>\n",
       "    </tr>\n",
       "    <tr>\n",
       "      <th>...</th>\n",
       "      <td>...</td>\n",
       "      <td>...</td>\n",
       "      <td>...</td>\n",
       "    </tr>\n",
       "    <tr>\n",
       "      <th>995</th>\n",
       "      <td>1845</td>\n",
       "      <td>287.737446</td>\n",
       "      <td>0.000005</td>\n",
       "    </tr>\n",
       "    <tr>\n",
       "      <th>996</th>\n",
       "      <td>1846</td>\n",
       "      <td>287.343864</td>\n",
       "      <td>0.000005</td>\n",
       "    </tr>\n",
       "    <tr>\n",
       "      <th>997</th>\n",
       "      <td>1847</td>\n",
       "      <td>287.545789</td>\n",
       "      <td>0.000005</td>\n",
       "    </tr>\n",
       "    <tr>\n",
       "      <th>998</th>\n",
       "      <td>1848</td>\n",
       "      <td>287.376264</td>\n",
       "      <td>0.000005</td>\n",
       "    </tr>\n",
       "    <tr>\n",
       "      <th>999</th>\n",
       "      <td>1849</td>\n",
       "      <td>287.304065</td>\n",
       "      <td>0.000005</td>\n",
       "    </tr>\n",
       "  </tbody>\n",
       "</table>\n",
       "<p>1000 rows × 3 columns</p>\n",
       "</div>"
      ],
      "text/plain": [
       "     time        temp      evap\n",
       "0     850  287.515430  0.000005\n",
       "1     851  287.845156  0.000005\n",
       "2     852  287.469500  0.000005\n",
       "3     853  287.815297  0.000005\n",
       "4     854  287.719776  0.000005\n",
       "..    ...         ...       ...\n",
       "995  1845  287.737446  0.000005\n",
       "996  1846  287.343864  0.000005\n",
       "997  1847  287.545789  0.000005\n",
       "998  1848  287.376264  0.000005\n",
       "999  1849  287.304065  0.000005\n",
       "\n",
       "[1000 rows x 3 columns]"
      ]
     },
     "execution_count": 9,
     "metadata": {},
     "output_type": "execute_result"
    }
   ],
   "source": [
    "pd_timeseries = pd.DataFrame()\n",
    "pd_timeseries['time'] = np.arange(850, 1850)\n",
    "\n",
    "for v in ['T', 'EVAP']:\n",
    "    data = var_ann[v][:, cLats_ind[0]:cLats_ind[1], cLons_ind[0]:cLons_ind[1]]\n",
    "    average = np.nanmean(data, axis = (1, 2))\n",
    "    if v == 'T':\n",
    "        pd_timeseries['temp'] = average\n",
    "    else: \n",
    "        pd_timeseries['evap'] = average\n",
    "pd_timeseries"
   ]
  },
  {
   "cell_type": "code",
   "execution_count": 10,
   "metadata": {},
   "outputs": [
    {
     "data": {
      "text/plain": [
       "Text(0.5, 0, 'time')"
      ]
     },
     "execution_count": 10,
     "metadata": {},
     "output_type": "execute_result"
    },
    {
     "data": {
      "image/png": "[encoded data removed]",
      "text/plain": [
       "<Figure size 432x288 with 2 Axes>"
      ]
     },
     "metadata": {
      "needs_background": "light"
     },
     "output_type": "display_data"
    }
   ],
   "source": [
    "plt.figure()\n",
    "plt.subplot(2,1,1)\n",
    "plt.title('temp')\n",
    "plt.ylabel('deg K')\n",
    "plt.plot(pd_timeseries['time'], pd_timeseries['temp'] )\n",
    "plt.subplot(2,1,2)\n",
    "plt.plot(pd_timeseries['time'], pd_timeseries['evap'] )\n",
    "plt.title('evap')\n",
    "plt.xlabel('time')"
   ]
  },
  {
   "cell_type": "code",
   "execution_count": 11,
   "metadata": {},
   "outputs": [],
   "source": [
    "pd_timeseries = pd_timeseries.fillna(-9999)\n",
    "pd_timeseries.to_csv(os.path.join(writeto, 'timeseries.csv'))"
   ]
  },
  {
   "cell_type": "markdown",
   "metadata": {},
   "source": [
    "## Get spatial Data\n",
    "- Lat/Lon/Value for period 1000-1200 and Lat/Long/Value for period 1600-1800 for \n",
    " - (1) winter snow depth, \n",
    " - (2) seasonal and annual precip (winter, spring, summer, fall)\n",
    " - (3) soil water, and \n",
    " - (4) discharge"
   ]
  },
  {
   "cell_type": "code",
   "execution_count": 12,
   "metadata": {},
   "outputs": [],
   "source": [
    "seasons_def = {'winter':[12, 1, 2],\n",
    "              'spring':[3,4,5],\n",
    "              'summer':[6,7,8],\n",
    "              'fall':[9,10,11]}\n",
    "\n",
    "b_indices = {}\n",
    "\n",
    "b_indices[0] = []\n",
    "b_indices[1] = []\n",
    "for i in range(len(time)):\n",
    "    t = time[i]\n",
    "    if t.year in range(1000, 1200):\n",
    "        b_indices[0].append(i)\n",
    "    if t.year in range(1600, 1800):\n",
    "        b_indices[1].append(i)\n",
    "\n",
    "seas_ind = {}\n",
    "\n",
    "for s in seasons_def:\n",
    "    seas_ind[s] = {}\n",
    "    seas_ind[s][0] = []\n",
    "    seas_ind[s][1] = []\n",
    "    for i in range(len(time)):\n",
    "        t = time[i]\n",
    "        if t.month in seasons_def[s]:\n",
    "            if t.year in range(1000, 1200):\n",
    "                seas_ind[s][0].append(i)\n",
    "            if t.year in range(1600, 1800):\n",
    "                seas_ind[s][1].append(i)\n",
    "        \n",
    "        "
   ]
  },
  {
   "cell_type": "code",
   "execution_count": 20,
   "metadata": {},
   "outputs": [],
   "source": [
    "df = pd.DataFrame()\n",
    "lat = []\n",
    "lon = []\n",
    "\n",
    "var_spec = ['SNOWHLND', 'SOILLIQ', 'P','EVAP', 'QRUNOFF', 'QSNOMELT']\n",
    "\n",
    "for i in range(len(lats)):\n",
    "    for j in range(len(lons)):\n",
    "        lat.append(lats[i])\n",
    "        lon.append(new_lons[j])\n",
    "\n",
    "df['lat'] = lat\n",
    "df['lon'] = lon\n",
    "\n",
    "for v in range(len(var_spec)):\n",
    "    for b in [0, 1]:\n",
    "        if v != 0: \n",
    "            data = var[var_spec[v]][b_indices[b], :, :]\n",
    "        else:\n",
    "            data = var[var_spec[v]][seas_ind['winter'][b], :, :]\n",
    "        lis = []\n",
    "        for i in range(len(lats)):\n",
    "            for j in range(len(lons)):\n",
    "                val = np.mean(data[:, i, j])\n",
    "                lis.append(val)\n",
    "        df[var_spec[v] + str(b)] = lis\n",
    "\n",
    "        \n",
    "for s in seasons_def:\n",
    "    for b in [0, 1]:\n",
    "        lis = []\n",
    "        data = var['P'][seas_ind[s][b], :, :]\n",
    "        for i in range(len(lats)):\n",
    "            for j in range(len(lons)):\n",
    "                val = np.mean(data[:, i, j])\n",
    "                lis.append(val)\n",
    "        df['P' + str(b) + s] = lis"
   ]
  },
  {
   "cell_type": "code",
   "execution_count": 21,
   "metadata": {},
   "outputs": [
    {
     "data": {
      "text/html": [
       "<div>\n",
       "<style scoped>\n",
       "    .dataframe tbody tr th:only-of-type {\n",
       "        vertical-align: middle;\n",
       "    }\n",
       "\n",
       "    .dataframe tbody tr th {\n",
       "        vertical-align: top;\n",
       "    }\n",
       "\n",
       "    .dataframe thead th {\n",
       "        text-align: right;\n",
       "    }\n",
       "</style>\n",
       "<table border=\"1\" class=\"dataframe\">\n",
       "  <thead>\n",
       "    <tr style=\"text-align: right;\">\n",
       "      <th></th>\n",
       "      <th>lat</th>\n",
       "      <th>lon</th>\n",
       "      <th>SNOWHLND0</th>\n",
       "      <th>SNOWHLND1</th>\n",
       "      <th>SOILLIQ0</th>\n",
       "      <th>SOILLIQ1</th>\n",
       "      <th>P0</th>\n",
       "      <th>P1</th>\n",
       "      <th>EVAP0</th>\n",
       "      <th>EVAP1</th>\n",
       "      <th>...</th>\n",
       "      <th>QSNOMELT0</th>\n",
       "      <th>QSNOMELT1</th>\n",
       "      <th>P0winter</th>\n",
       "      <th>P1winter</th>\n",
       "      <th>P0spring</th>\n",
       "      <th>P1spring</th>\n",
       "      <th>P0summer</th>\n",
       "      <th>P1summer</th>\n",
       "      <th>P0fall</th>\n",
       "      <th>P1fall</th>\n",
       "    </tr>\n",
       "  </thead>\n",
       "  <tbody>\n",
       "    <tr>\n",
       "      <th>0</th>\n",
       "      <td>25.578947</td>\n",
       "      <td>-110.0</td>\n",
       "      <td>0.000000e+00</td>\n",
       "      <td>0.000000e+00</td>\n",
       "      <td>1108.544300</td>\n",
       "      <td>1107.691624</td>\n",
       "      <td>3.176009e-08</td>\n",
       "      <td>3.178706e-08</td>\n",
       "      <td>0.000012</td>\n",
       "      <td>0.000012</td>\n",
       "      <td>...</td>\n",
       "      <td>2.774627e-12</td>\n",
       "      <td>2.814396e-12</td>\n",
       "      <td>2.754670e-08</td>\n",
       "      <td>2.727511e-08</td>\n",
       "      <td>6.818435e-09</td>\n",
       "      <td>6.759838e-09</td>\n",
       "      <td>2.220696e-08</td>\n",
       "      <td>2.267798e-08</td>\n",
       "      <td>7.046828e-08</td>\n",
       "      <td>7.043531e-08</td>\n",
       "    </tr>\n",
       "    <tr>\n",
       "      <th>1</th>\n",
       "      <td>25.578947</td>\n",
       "      <td>-107.5</td>\n",
       "      <td>6.616436e-10</td>\n",
       "      <td>1.544587e-08</td>\n",
       "      <td>1303.575472</td>\n",
       "      <td>1298.685665</td>\n",
       "      <td>5.667637e-08</td>\n",
       "      <td>5.614445e-08</td>\n",
       "      <td>0.000003</td>\n",
       "      <td>0.000002</td>\n",
       "      <td>...</td>\n",
       "      <td>4.785920e-10</td>\n",
       "      <td>5.955877e-10</td>\n",
       "      <td>3.874258e-08</td>\n",
       "      <td>3.887213e-08</td>\n",
       "      <td>1.611280e-08</td>\n",
       "      <td>1.582861e-08</td>\n",
       "      <td>9.265112e-08</td>\n",
       "      <td>9.137203e-08</td>\n",
       "      <td>7.919898e-08</td>\n",
       "      <td>7.850502e-08</td>\n",
       "    </tr>\n",
       "    <tr>\n",
       "      <th>2</th>\n",
       "      <td>25.578947</td>\n",
       "      <td>-105.0</td>\n",
       "      <td>7.983689e-06</td>\n",
       "      <td>1.241654e-05</td>\n",
       "      <td>1020.569706</td>\n",
       "      <td>975.686087</td>\n",
       "      <td>3.473992e-08</td>\n",
       "      <td>3.520041e-08</td>\n",
       "      <td>0.000014</td>\n",
       "      <td>0.000012</td>\n",
       "      <td>...</td>\n",
       "      <td>7.174871e-08</td>\n",
       "      <td>7.986202e-08</td>\n",
       "      <td>2.547149e-08</td>\n",
       "      <td>2.550274e-08</td>\n",
       "      <td>2.183581e-08</td>\n",
       "      <td>2.196336e-08</td>\n",
       "      <td>4.740421e-08</td>\n",
       "      <td>4.848819e-08</td>\n",
       "      <td>4.424817e-08</td>\n",
       "      <td>4.484734e-08</td>\n",
       "    </tr>\n",
       "    <tr>\n",
       "      <th>3</th>\n",
       "      <td>25.578947</td>\n",
       "      <td>-102.5</td>\n",
       "      <td>6.211782e-05</td>\n",
       "      <td>5.433449e-05</td>\n",
       "      <td>1070.667983</td>\n",
       "      <td>1056.252599</td>\n",
       "      <td>2.953527e-08</td>\n",
       "      <td>2.986647e-08</td>\n",
       "      <td>0.000022</td>\n",
       "      <td>0.000021</td>\n",
       "      <td>...</td>\n",
       "      <td>2.949225e-07</td>\n",
       "      <td>3.137107e-07</td>\n",
       "      <td>2.308015e-08</td>\n",
       "      <td>2.288248e-08</td>\n",
       "      <td>3.279885e-08</td>\n",
       "      <td>3.312721e-08</td>\n",
       "      <td>2.548429e-08</td>\n",
       "      <td>2.609452e-08</td>\n",
       "      <td>3.677777e-08</td>\n",
       "      <td>3.736166e-08</td>\n",
       "    </tr>\n",
       "    <tr>\n",
       "      <th>4</th>\n",
       "      <td>25.578947</td>\n",
       "      <td>-100.0</td>\n",
       "      <td>2.493112e-05</td>\n",
       "      <td>2.577173e-05</td>\n",
       "      <td>1210.389977</td>\n",
       "      <td>1122.749379</td>\n",
       "      <td>3.234351e-08</td>\n",
       "      <td>3.208858e-08</td>\n",
       "      <td>0.000016</td>\n",
       "      <td>0.000010</td>\n",
       "      <td>...</td>\n",
       "      <td>1.970316e-07</td>\n",
       "      <td>2.238317e-07</td>\n",
       "      <td>2.735885e-08</td>\n",
       "      <td>2.729878e-08</td>\n",
       "      <td>4.537885e-08</td>\n",
       "      <td>4.382987e-08</td>\n",
       "      <td>1.616542e-08</td>\n",
       "      <td>1.633824e-08</td>\n",
       "      <td>4.047093e-08</td>\n",
       "      <td>4.088745e-08</td>\n",
       "    </tr>\n",
       "    <tr>\n",
       "      <th>...</th>\n",
       "      <td>...</td>\n",
       "      <td>...</td>\n",
       "      <td>...</td>\n",
       "      <td>...</td>\n",
       "      <td>...</td>\n",
       "      <td>...</td>\n",
       "      <td>...</td>\n",
       "      <td>...</td>\n",
       "      <td>...</td>\n",
       "      <td>...</td>\n",
       "      <td>...</td>\n",
       "      <td>...</td>\n",
       "      <td>...</td>\n",
       "      <td>...</td>\n",
       "      <td>...</td>\n",
       "      <td>...</td>\n",
       "      <td>...</td>\n",
       "      <td>...</td>\n",
       "      <td>...</td>\n",
       "      <td>...</td>\n",
       "      <td>...</td>\n",
       "    </tr>\n",
       "    <tr>\n",
       "      <th>315</th>\n",
       "      <td>54.000000</td>\n",
       "      <td>-72.5</td>\n",
       "      <td>1.102016e-01</td>\n",
       "      <td>1.105687e-01</td>\n",
       "      <td>954.827502</td>\n",
       "      <td>945.356910</td>\n",
       "      <td>2.440844e-08</td>\n",
       "      <td>2.408823e-08</td>\n",
       "      <td>0.000005</td>\n",
       "      <td>0.000005</td>\n",
       "      <td>...</td>\n",
       "      <td>1.106172e-05</td>\n",
       "      <td>1.101486e-05</td>\n",
       "      <td>1.297701e-08</td>\n",
       "      <td>1.252905e-08</td>\n",
       "      <td>1.712120e-08</td>\n",
       "      <td>1.695964e-08</td>\n",
       "      <td>3.564344e-08</td>\n",
       "      <td>3.557801e-08</td>\n",
       "      <td>3.189210e-08</td>\n",
       "      <td>3.128622e-08</td>\n",
       "    </tr>\n",
       "    <tr>\n",
       "      <th>316</th>\n",
       "      <td>54.000000</td>\n",
       "      <td>-70.0</td>\n",
       "      <td>1.036611e-01</td>\n",
       "      <td>1.051555e-01</td>\n",
       "      <td>1194.773535</td>\n",
       "      <td>1186.571804</td>\n",
       "      <td>2.434939e-08</td>\n",
       "      <td>2.405908e-08</td>\n",
       "      <td>0.000004</td>\n",
       "      <td>0.000004</td>\n",
       "      <td>...</td>\n",
       "      <td>1.074667e-05</td>\n",
       "      <td>1.073686e-05</td>\n",
       "      <td>1.278787e-08</td>\n",
       "      <td>1.238474e-08</td>\n",
       "      <td>1.823633e-08</td>\n",
       "      <td>1.810576e-08</td>\n",
       "      <td>3.729609e-08</td>\n",
       "      <td>3.714546e-08</td>\n",
       "      <td>2.907727e-08</td>\n",
       "      <td>2.860035e-08</td>\n",
       "    </tr>\n",
       "    <tr>\n",
       "      <th>317</th>\n",
       "      <td>54.000000</td>\n",
       "      <td>-67.5</td>\n",
       "      <td>1.134707e-01</td>\n",
       "      <td>1.144680e-01</td>\n",
       "      <td>1254.084324</td>\n",
       "      <td>1247.755612</td>\n",
       "      <td>2.540716e-08</td>\n",
       "      <td>2.505344e-08</td>\n",
       "      <td>0.000007</td>\n",
       "      <td>0.000007</td>\n",
       "      <td>...</td>\n",
       "      <td>1.190558e-05</td>\n",
       "      <td>1.187766e-05</td>\n",
       "      <td>1.374923e-08</td>\n",
       "      <td>1.334037e-08</td>\n",
       "      <td>1.967849e-08</td>\n",
       "      <td>1.952075e-08</td>\n",
       "      <td>3.999357e-08</td>\n",
       "      <td>3.962166e-08</td>\n",
       "      <td>2.820736e-08</td>\n",
       "      <td>2.773097e-08</td>\n",
       "    </tr>\n",
       "    <tr>\n",
       "      <th>318</th>\n",
       "      <td>54.000000</td>\n",
       "      <td>-65.0</td>\n",
       "      <td>1.181399e-01</td>\n",
       "      <td>1.187301e-01</td>\n",
       "      <td>926.689685</td>\n",
       "      <td>922.763561</td>\n",
       "      <td>2.713449e-08</td>\n",
       "      <td>2.677213e-08</td>\n",
       "      <td>0.000006</td>\n",
       "      <td>0.000006</td>\n",
       "      <td>...</td>\n",
       "      <td>1.251942e-05</td>\n",
       "      <td>1.249390e-05</td>\n",
       "      <td>1.542883e-08</td>\n",
       "      <td>1.502502e-08</td>\n",
       "      <td>2.211810e-08</td>\n",
       "      <td>2.191443e-08</td>\n",
       "      <td>4.239622e-08</td>\n",
       "      <td>4.206061e-08</td>\n",
       "      <td>2.859479e-08</td>\n",
       "      <td>2.808846e-08</td>\n",
       "    </tr>\n",
       "    <tr>\n",
       "      <th>319</th>\n",
       "      <td>54.000000</td>\n",
       "      <td>-62.5</td>\n",
       "      <td>1.170332e-01</td>\n",
       "      <td>1.182458e-01</td>\n",
       "      <td>908.847978</td>\n",
       "      <td>907.761437</td>\n",
       "      <td>2.843401e-08</td>\n",
       "      <td>2.811871e-08</td>\n",
       "      <td>0.000003</td>\n",
       "      <td>0.000003</td>\n",
       "      <td>...</td>\n",
       "      <td>1.318111e-05</td>\n",
       "      <td>1.322571e-05</td>\n",
       "      <td>1.778195e-08</td>\n",
       "      <td>1.739017e-08</td>\n",
       "      <td>2.466208e-08</td>\n",
       "      <td>2.451440e-08</td>\n",
       "      <td>4.229484e-08</td>\n",
       "      <td>4.197528e-08</td>\n",
       "      <td>2.899718e-08</td>\n",
       "      <td>2.859500e-08</td>\n",
       "    </tr>\n",
       "  </tbody>\n",
       "</table>\n",
       "<p>320 rows × 22 columns</p>\n",
       "</div>"
      ],
      "text/plain": [
       "           lat    lon     SNOWHLND0     SNOWHLND1     SOILLIQ0     SOILLIQ1  \\\n",
       "0    25.578947 -110.0  0.000000e+00  0.000000e+00  1108.544300  1107.691624   \n",
       "1    25.578947 -107.5  6.616436e-10  1.544587e-08  1303.575472  1298.685665   \n",
       "2    25.578947 -105.0  7.983689e-06  1.241654e-05  1020.569706   975.686087   \n",
       "3    25.578947 -102.5  6.211782e-05  5.433449e-05  1070.667983  1056.252599   \n",
       "4    25.578947 -100.0  2.493112e-05  2.577173e-05  1210.389977  1122.749379   \n",
       "..         ...    ...           ...           ...          ...          ...   \n",
       "315  54.000000  -72.5  1.102016e-01  1.105687e-01   954.827502   945.356910   \n",
       "316  54.000000  -70.0  1.036611e-01  1.051555e-01  1194.773535  1186.571804   \n",
       "317  54.000000  -67.5  1.134707e-01  1.144680e-01  1254.084324  1247.755612   \n",
       "318  54.000000  -65.0  1.181399e-01  1.187301e-01   926.689685   922.763561   \n",
       "319  54.000000  -62.5  1.170332e-01  1.182458e-01   908.847978   907.761437   \n",
       "\n",
       "               P0            P1     EVAP0     EVAP1  ...     QSNOMELT0  \\\n",
       "0    3.176009e-08  3.178706e-08  0.000012  0.000012  ...  2.774627e-12   \n",
       "1    5.667637e-08  5.614445e-08  0.000003  0.000002  ...  4.785920e-10   \n",
       "2    3.473992e-08  3.520041e-08  0.000014  0.000012  ...  7.174871e-08   \n",
       "3    2.953527e-08  2.986647e-08  0.000022  0.000021  ...  2.949225e-07   \n",
       "4    3.234351e-08  3.208858e-08  0.000016  0.000010  ...  1.970316e-07   \n",
       "..            ...           ...       ...       ...  ...           ...   \n",
       "315  2.440844e-08  2.408823e-08  0.000005  0.000005  ...  1.106172e-05   \n",
       "316  2.434939e-08  2.405908e-08  0.000004  0.000004  ...  1.074667e-05   \n",
       "317  2.540716e-08  2.505344e-08  0.000007  0.000007  ...  1.190558e-05   \n",
       "318  2.713449e-08  2.677213e-08  0.000006  0.000006  ...  1.251942e-05   \n",
       "319  2.843401e-08  2.811871e-08  0.000003  0.000003  ...  1.318111e-05   \n",
       "\n",
       "        QSNOMELT1      P0winter      P1winter      P0spring      P1spring  \\\n",
       "0    2.814396e-12  2.754670e-08  2.727511e-08  6.818435e-09  6.759838e-09   \n",
       "1    5.955877e-10  3.874258e-08  3.887213e-08  1.611280e-08  1.582861e-08   \n",
       "2    7.986202e-08  2.547149e-08  2.550274e-08  2.183581e-08  2.196336e-08   \n",
       "3    3.137107e-07  2.308015e-08  2.288248e-08  3.279885e-08  3.312721e-08   \n",
       "4    2.238317e-07  2.735885e-08  2.729878e-08  4.537885e-08  4.382987e-08   \n",
       "..            ...           ...           ...           ...           ...   \n",
       "315  1.101486e-05  1.297701e-08  1.252905e-08  1.712120e-08  1.695964e-08   \n",
       "316  1.073686e-05  1.278787e-08  1.238474e-08  1.823633e-08  1.810576e-08   \n",
       "317  1.187766e-05  1.374923e-08  1.334037e-08  1.967849e-08  1.952075e-08   \n",
       "318  1.249390e-05  1.542883e-08  1.502502e-08  2.211810e-08  2.191443e-08   \n",
       "319  1.322571e-05  1.778195e-08  1.739017e-08  2.466208e-08  2.451440e-08   \n",
       "\n",
       "         P0summer      P1summer        P0fall        P1fall  \n",
       "0    2.220696e-08  2.267798e-08  7.046828e-08  7.043531e-08  \n",
       "1    9.265112e-08  9.137203e-08  7.919898e-08  7.850502e-08  \n",
       "2    4.740421e-08  4.848819e-08  4.424817e-08  4.484734e-08  \n",
       "3    2.548429e-08  2.609452e-08  3.677777e-08  3.736166e-08  \n",
       "4    1.616542e-08  1.633824e-08  4.047093e-08  4.088745e-08  \n",
       "..            ...           ...           ...           ...  \n",
       "315  3.564344e-08  3.557801e-08  3.189210e-08  3.128622e-08  \n",
       "316  3.729609e-08  3.714546e-08  2.907727e-08  2.860035e-08  \n",
       "317  3.999357e-08  3.962166e-08  2.820736e-08  2.773097e-08  \n",
       "318  4.239622e-08  4.206061e-08  2.859479e-08  2.808846e-08  \n",
       "319  4.229484e-08  4.197528e-08  2.899718e-08  2.859500e-08  \n",
       "\n",
       "[320 rows x 22 columns]"
      ]
     },
     "execution_count": 21,
     "metadata": {},
     "output_type": "execute_result"
    }
   ],
   "source": [
    "df = df.fillna(-9999)\n",
    "df.to_csv(os.path.join(writeto, 'spatial_data.csv'))\n",
    "df"
   ]
  },
  {
   "cell_type": "markdown",
   "metadata": {},
   "source": [
    "## Discharge File\n",
    "seperate because its at a different resolution"
   ]
  },
  {
   "cell_type": "code",
   "execution_count": 15,
   "metadata": {},
   "outputs": [],
   "source": [
    "dis_df = pd.DataFrame()\n",
    "\n",
    "for b in [0, 1]:\n",
    "    data = var['QCHANR'][b_indices[b], :, :]\n",
    "    lat = []\n",
    "    lon = []\n",
    "    val = []\n",
    "    for i in range(len(q_lats)):\n",
    "        for j in range(len(q_lons)):\n",
    "            lat.append(q_lats[i])\n",
    "            lon.append(q_lons[j])\n",
    "            val.append(np.mean(data[:, i, j]))\n",
    "    dis_df['QCHANR' + str(b)] = val\n",
    "            \n",
    "dis_df['lat'] = lat\n",
    "dis_df['lon'] = lon"
   ]
  },
  {
   "cell_type": "code",
   "execution_count": 16,
   "metadata": {},
   "outputs": [],
   "source": [
    "dis_df = dis_df.fillna(-9999)\n",
    "dis_df.to_csv(os.path.join(writeto, 'spatial_data_discharge.csv'))"
   ]
  },
  {
   "cell_type": "code",
   "execution_count": 17,
   "metadata": {},
   "outputs": [
    {
     "data": {
      "text/plain": [
       "(12000, 16, 20)"
      ]
     },
     "execution_count": 17,
     "metadata": {},
     "output_type": "execute_result"
    }
   ],
   "source": [
    "var['T'].shape\n"
   ]
  },
  {
   "cell_type": "code",
   "execution_count": 18,
   "metadata": {},
   "outputs": [
    {
     "data": {
      "text/plain": [
       "<matplotlib.colorbar.Colorbar at 0x29a3c68e388>"
      ]
     },
     "execution_count": 18,
     "metadata": {},
     "output_type": "execute_result"
    },
    {
     "data": {
      "image/png": "[encoded data removed]",
      "text/plain": [
       "<Figure size 432x288 with 2 Axes>"
      ]
     },
     "metadata": {
      "needs_background": "light"
     },
     "output_type": "display_data"
    }
   ],
   "source": [
    "plt.figure()\n",
    "mesh = plt.pcolormesh(var['T'][-1, :, :])\n",
    "plt.colorbar(mesh)"
   ]
  },
  {
   "cell_type": "code",
   "execution_count": 19,
   "metadata": {},
   "outputs": [
    {
     "data": {
      "text/plain": [
       "<cartopy.mpl.feature_artist.FeatureArtist at 0x29a3c723188>"
      ]
     },
     "execution_count": 19,
     "metadata": {},
     "output_type": "execute_result"
    },
    {
     "data": {
      "image/png": "[encoded data removed]",
      "text/plain": [
       "<Figure size 432x288 with 1 Axes>"
      ]
     },
     "metadata": {
      "needs_background": "light"
     },
     "output_type": "display_data"
    }
   ],
   "source": [
    "plt.figure()\n",
    "ax = plt.subplot(projection = ccrs.PlateCarree())\n",
    "plt.plot(df['lon'], df['lat'], '.')\n",
    "ax.coastlines()"
   ]
  },
  {
   "cell_type": "code",
   "execution_count": null,
   "metadata": {},
   "outputs": [],
   "source": []
  }
 ],
 "metadata": {
  "kernelspec": {
   "display_name": "Python 3",
   "language": "python",
   "name": "python3"
  },
  "language_info": {
   "codemirror_mode": {
    "name": "ipython",
    "version": 3
   },
   "file_extension": ".py",
   "mimetype": "text/x-python",
   "name": "python",
   "nbconvert_exporter": "python",
   "pygments_lexer": "ipython3",
   "version": "3.7.6"
  }
 },
 "nbformat": 4,
 "nbformat_minor": 4
}
