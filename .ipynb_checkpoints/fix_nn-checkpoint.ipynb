{
 "cells": [
  {
   "cell_type": "markdown",
   "metadata": {},
   "source": [
    "# Fix nearest neighbor problem "
   ]
  },
  {
   "cell_type": "code",
   "execution_count": 1,
   "metadata": {},
   "outputs": [],
   "source": [
    "#import packages \n",
    "import data_methods as dm\n",
    "import vis_methods as vm \n",
    "import os \n",
    "import pandas as pd\n",
    "\n",
    "import matplotlib.pyplot as plt \n",
    "import numpy as np \n",
    "import pickle"
   ]
  },
  {
   "cell_type": "markdown",
   "metadata": {},
   "source": [
    "## Original nn method "
   ]
  },
  {
   "cell_type": "code",
   "execution_count": null,
   "metadata": {},
   "outputs": [],
   "source": [
    "#takes original Frasson file and adds a mean/min/max discharge column \n",
    "    #based on nearest neighbor approach (not as-the-crow-flies)\n",
    "def assign_cop_to_latlon_old(sin_path, dis_path):\n",
    "    # sin_path = r'D:\\MS Sinuosity Data\\MS_segments_recovered.xlsx'\n",
    "    # dis_path = r'D:\\CDS River Discharge\\Pickles\\compressed_ra.pickle'\n",
    "    \n",
    "    start_time = time.time() #start a timer \n",
    "\n",
    "    #import data , get lat, lon \n",
    "    df = pd.read_excel(sin_path)\n",
    "    dic = pickle.load(open(dis_path, \"rb\" ) )\n",
    "    \n",
    "    lat = dic['lat'].tolist()\n",
    "    lon = dic['lon'].tolist()\n",
    "    \n",
    "    #initialize lists \n",
    "    means = []\n",
    "    maxs = []\n",
    "    mins = []\n",
    "    \n",
    "    #iterate through dataframe from Frasson file and find the closest neighbor within GFAS \n",
    "    for ind in df.index:\n",
    "        \n",
    "        if ind % 1000 == 0: #print a progress statement \n",
    "            print('entry ' + str(ind))\n",
    "        x = df['lat'][ind]\n",
    "        y = df['lon'][ind]\n",
    "        \n",
    "        ind_x = find_closest_val(x, lat)\n",
    "        ind_y = find_closest_val(y, lon)\n",
    "        \n",
    "        #get mean, max, min from the GFAS file \n",
    "        means.append(dic['mean_annual'][ind_x, ind_y])\n",
    "        maxs.append(dic['peak_annual'][ind_x, ind_y])\n",
    "        mins.append(dic['min_annual'][ind_x, ind_y])\n",
    "    \n",
    "    print('writing new columns to dataframe...')\n",
    "    #add columns to dataframe \n",
    "    df['mean_dis'] = means\n",
    "    df['min_dis'] = mins\n",
    "    df['max_dis'] = maxs \n",
    "    \n",
    "    #temporally convert -9999 values to nan, so that they can be processed by np.log\n",
    "    df[df == -9999.0 ] = np.nan\n",
    "    \n",
    "    columns = df.columns.tolist()\n",
    "    \n",
    "    #add log columns to dataframe \n",
    "    if 'Sinuosity' in columns: df['log_sinuosity'] = np.log(df['Sinuosity'])\n",
    "    df['log_mw'] = np.log(df['Meandwave'])\n",
    "    df['log_mean_dis'] = np.log(df['mean_dis'])\n",
    "    df['log_min_dis'] = np.log(df['min_dis'])\n",
    "    df['log_max_dis'] = np.log(df['max_dis'])\n",
    "    if 'QWBM' in columns: df['log_QWBM'] = np.log(df['QWBM'])\n",
    "    \n",
    "    #convert nan values back to -9999.0, so this file can be easily shared to non-Python friends \n",
    "    df.fillna(-9999.0)\n",
    "    \n",
    "    print('rewriting excel file with 9 new columns...')\n",
    "    #rewrite excel file \n",
    "    df = drop_untitled(df)\n",
    "    df.to_excel(sin_path)\n",
    "    \n",
    "    #print time \n",
    "    print(\"--- %s seconds ---\" % (time.time() - start_time))"
   ]
  },
  {
   "cell_type": "markdown",
   "metadata": {},
   "source": [
    "# Run with original "
   ]
  },
  {
   "cell_type": "code",
   "execution_count": 2,
   "metadata": {},
   "outputs": [
    {
     "name": "stdout",
     "output_type": "stream",
     "text": [
      "entry 0\n",
      "writing new columns to dataframe...\n",
      "rewriting excel file with 9 new columns...\n",
      "--- 0.36389994621276855 seconds ---\n",
      "0         5.650236\n",
      "1     58230.875235\n",
      "2         6.322981\n",
      "3         6.564810\n",
      "4     53050.560439\n",
      "5         6.688145\n",
      "6         6.341945\n",
      "7      3174.254855\n",
      "8     49686.220841\n",
      "9     49632.713481\n",
      "10    49626.734052\n",
      "11        6.195710\n",
      "Name: mean_dis, dtype: float64\n"
     ]
    },
    {
     "data": {
      "text/plain": [
       "[<matplotlib.lines.Line2D at 0x20f99321ac8>]"
      ]
     },
     "execution_count": 2,
     "metadata": {},
     "output_type": "execute_result"
    },
    {
     "data": {
      "image/png": "[encoded data removed]",
      "text/plain": [
       "<Figure size 432x288 with 1 Axes>"
      ]
     },
     "metadata": {
      "needs_background": "light"
     },
     "output_type": "display_data"
    }
   ],
   "source": [
    "path = r'C:\\Users\\bydd1\\OneDrive\\Documents\\Research\\MS Sinuosity Data\\Amazon Segments\\Seg12.xlsx'\n",
    "compressed_discharge_path = r'C:\\Users\\bydd1\\OneDrive\\Documents\\Research\\MS Sinuosity Data\\compressed_ra.pickle'  \n",
    "assign_cop_to_latlon_old(path, compressed_discharge_path)\n",
    "seg_x = pd.read_excel(path)\n",
    "\n",
    "plt.figure()\n",
    "y = seg_x['mean_dis']\n",
    "print(y)\n",
    "x = np.arange(0, len(y))\n",
    "plt.plot(x, y, '.')"
   ]
  },
  {
   "cell_type": "code",
   "execution_count": 3,
   "metadata": {},
   "outputs": [
    {
     "name": "stdout",
     "output_type": "stream",
     "text": [
      "entry 0\n",
      "writing new columns to dataframe...\n",
      "rewriting excel file with 9 new columns...\n",
      "--- 0.29523754119873047 seconds ---\n",
      "0     58580.012006\n",
      "1     58575.542037\n",
      "2     58406.834130\n",
      "3     58230.875235\n",
      "4     53085.287234\n",
      "5     53061.733904\n",
      "6     52974.388061\n",
      "7     52943.582237\n",
      "8     52917.379317\n",
      "9     52877.052626\n",
      "10    49689.437105\n",
      "11    49640.018925\n",
      "Name: mean_dis, dtype: float64\n"
     ]
    },
    {
     "data": {
      "text/plain": [
       "[<matplotlib.lines.Line2D at 0x20f993dcda0>]"
      ]
     },
     "execution_count": 3,
     "metadata": {},
     "output_type": "execute_result"
    },
    {
     "data": {
      "image/png": "[encoded data removed]",
      "text/plain": [
       "<Figure size 432x288 with 1 Axes>"
      ]
     },
     "metadata": {
      "needs_background": "light"
     },
     "output_type": "display_data"
    }
   ],
   "source": [
    "dm.assign_cop_to_latlon_alternative(path, compressed_discharge_path)\n",
    "seg_x = pd.read_excel(path)\n",
    "\n",
    "plt.figure()\n",
    "y = seg_x['mean_dis']\n",
    "print(y)\n",
    "x = np.arange(0, len(y))\n",
    "plt.plot(x, y, '.')"
   ]
  },
  {
   "cell_type": "code",
   "execution_count": 4,
   "metadata": {},
   "outputs": [
    {
     "name": "stdout",
     "output_type": "stream",
     "text": [
      "0.0955906806293037\n",
      "0    -65.210541\n",
      "1    -65.310334\n",
      "2    -65.440592\n",
      "3    -65.636874\n",
      "4    -66.152359\n",
      "5    -66.327026\n",
      "6    -66.709323\n",
      "7    -66.860044\n",
      "8    -66.986902\n",
      "9    -67.090924\n",
      "10   -67.190374\n",
      "11   -67.308345\n",
      "Name: lon, dtype: float64\n"
     ]
    }
   ],
   "source": [
    "print(np.std(seg_x['lat']))\n",
    "print(seg_x['lon'])"
   ]
  },
  {
   "cell_type": "code",
   "execution_count": null,
   "metadata": {},
   "outputs": [],
   "source": []
  },
  {
   "cell_type": "code",
   "execution_count": null,
   "metadata": {},
   "outputs": [],
   "source": []
  }
 ],
 "metadata": {
  "kernelspec": {
   "display_name": "Python 3",
   "language": "python",
   "name": "python3"
  },
  "language_info": {
   "codemirror_mode": {
    "name": "ipython",
    "version": 3
   },
   "file_extension": ".py",
   "mimetype": "text/x-python",
   "name": "python",
   "nbconvert_exporter": "python",
   "pygments_lexer": "ipython3",
   "version": "3.6.9"
  }
 },
 "nbformat": 4,
 "nbformat_minor": 2
}
